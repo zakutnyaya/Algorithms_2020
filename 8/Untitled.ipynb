{
 "cells": [
  {
   "cell_type": "code",
   "execution_count": 4,
   "metadata": {},
   "outputs": [
    {
     "name": "stdout",
     "output_type": "stream",
     "text": [
      "3 3\n",
      "1 2\n",
      "2 3\n",
      "3 1\n",
      "3\n",
      "1 2 3\n"
     ]
    }
   ],
   "source": [
    "import sys\n",
    "sys.setrecursionlimit(1500)\n",
    "\n",
    "n, m = map(int, input().split())\n",
    "e = [[] for _ in range(n + 1)]\n",
    "for i in range(m):\n",
    "    fr, to = map(int, input().split())\n",
    "    e[fr].append(to)\n",
    "    e[to].append(fr)\n",
    "\n",
    "used = [0 for i in range(n + 1)]\n",
    "def dfs(v):\n",
    "    used[v] = 1\n",
    "    for to in e[v]:\n",
    "        if not used[to]:\n",
    "            dfs(to)\n",
    "dfs(1)\n",
    "\n",
    "res = []\n",
    "for i in range(n + 1):\n",
    "    if used[i]:\n",
    "        res.append(i)\n",
    "print(len(res))\n",
    "print(*res)"
   ]
  },
  {
   "cell_type": "code",
   "execution_count": null,
   "metadata": {},
   "outputs": [],
   "source": [
    "n = int(input())\n",
    "m = [list(map(int, input().split())) for _ in range(n)]\n",
    "s, t = map(int, input().split())\n",
    "s -= 1\n",
    "t -= 1\n",
    "\n",
    "d = [-1 for _ in range(n)]\n",
    "p = [-1 for _ in range(n)]\n",
    "d[s] = 0\n",
    "\n",
    "q = deque()\n",
    "q.append(s)\n",
    "while len(q) > 0:\n",
    "    v = q.popleft()\n",
    "    for i in range(n):\n",
    "        if m[v][i] and d[i] == -1:\n",
    "            d[i] = d[v] + 1\n",
    "            p[i] = v\n",
    "            q.append(i)\n",
    "\n",
    "print(d[t])\n",
    "if d[t] > 0:\n",
    "    res = []\n",
    "    while t != s:\n",
    "        res.append(t + 1)\n",
    "        t = p[t]\n",
    "    res.append(s + 1)\n",
    "    print(*res[::-1])"
   ]
  }
 ],
 "metadata": {
  "kernelspec": {
   "display_name": "Python 3",
   "language": "python",
   "name": "python3"
  },
  "language_info": {
   "codemirror_mode": {
    "name": "ipython",
    "version": 3
   },
   "file_extension": ".py",
   "mimetype": "text/x-python",
   "name": "python",
   "nbconvert_exporter": "python",
   "pygments_lexer": "ipython3",
   "version": "3.7.5"
  }
 },
 "nbformat": 4,
 "nbformat_minor": 4
}
