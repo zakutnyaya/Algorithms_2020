{
 "cells": [
  {
   "cell_type": "markdown",
   "metadata": {},
   "source": [
    "## Merge sort"
   ]
  },
  {
   "cell_type": "markdown",
   "metadata": {},
   "source": [
    "Bubble sort работал за O(n^2), где n - длина массива. \n",
    "\n",
    "Сортировка слиянием рабоатет за O(n Log n).\n",
    "\n",
    "У нас есть два отсортированных массива - a и b, мы хотим слить эти два массива в один отсортированный. слить два массива можно за O(n).\n",
    "\n",
    "Какой элемент может находиться на нулевом месте в новом массиве? Либо первый элемент из a, либо минимальный элемент из b.\n",
    "\n",
    "Пусть минимальный элемент - это a1:\n",
    "\n",
    "a1\n",
    "\n",
    "Какой элемент стоит на второй позиции? либо b1, либо a2, выбираем минимум.\n",
    "Пусть a2:\n",
    "\n",
    "a1 a2\n",
    "\n",
    "и тд"
   ]
  },
  {
   "cell_type": "markdown",
   "metadata": {},
   "source": [
    "### Псевдокод:\n",
    "\n",
    "i = 0 - индекс первого массива\n",
    "\n",
    "j = 0 - индекс второго массива\n",
    "\n",
    "while()\n",
    "\n",
    "    if a[i] =< b[j]:\n",
    "    \n",
    "        res.push(a[i])\n",
    "        \n",
    "   i += 1\n",
    "   \n",
    "    else:\n",
    "    \n",
    "    res.push(b[j])\n",
    "    \n",
    "   j += 1"
   ]
  },
  {
   "cell_type": "markdown",
   "metadata": {},
   "source": [
    "### Пример\n",
    "\n",
    "1 3 4\n",
    "\n",
    "0 2 4 5\n",
    "\n",
    "0 1 2 3 4 4 5\n",
    "\n",
    "Сложность линейная, так как весь цикл в while наверху работает за O(1), все операции внутри цикла элементарные, которые работают за O(1).\n",
    "\n",
    "В цикл мы зайдем максимум len(a) + len(b). Общее время работы O(len(a) + len(b))."
   ]
  },
  {
   "cell_type": "code",
   "execution_count": 2,
   "metadata": {
    "collapsed": true
   },
   "outputs": [],
   "source": [
    "def merge(a, b):\n",
    "    c = []\n",
    "    i = 0\n",
    "    j = 0\n",
    "    while i < len(a) or j < len(b):\n",
    "        # a[i] <= b[j] - часть, отвечающая за сортировку\n",
    "        # j >= len(b) -  отвечает за слуйчай, когда массив b закончился\n",
    "        # итого, аппендим a, когда элемент a меньше либо равен элементу b, либо когда массив b закончился, а массив a нет\n",
    "        if i < len(a) and (j >= len(b) or a[i] <= b[j]): \n",
    "            c.append(a[i])\n",
    "            i += 1\n",
    "        else:\n",
    "            c.append(b[j])\n",
    "            j += 1\n",
    "    return c"
   ]
  },
  {
   "cell_type": "markdown",
   "metadata": {},
   "source": [
    "### Сортировка\n",
    "\n",
    "Один массив разобьем на две части, отсортируем две части. Затем следующие части разобьем еще на две части и так до тех пор, пока эти части не будут состоять из одного элемента. После этого сравниваем эти элементы и идем вверх.\n",
    "\n",
    "\n",
    "def MergeSort(a):\n",
    "\n",
    "    if len(a) <= 1 # массив отсортирован, это условие выхода из рекурсии\n",
    "        return a\n",
    "        m = len(a)/2\n",
    "        # вызываем функцию для каждой половины\n",
    "        p1 = MergeSort(a[:m])\n",
    "        p2 = MergeSort(a[m:])\n",
    "        \n",
    "    # сливаем все воедино\n",
    "    return Merge(p1,p2)"
   ]
  },
  {
   "cell_type": "markdown",
   "metadata": {},
   "source": [
    "a = [4, 2, 3, 1]\n",
    "\n",
    "середина - это 2 = m\n",
    "\n",
    "для правой половины [4,2] m = 1\n",
    "\n",
    "для левой половины [3, 1] m = 1\n",
    "\n",
    "[4,2] разбили на 4 и 2\n",
    "\n",
    "Merge(4,2) = [2,4]\n",
    "\n",
    "и то же самое для [3, 1]\n",
    "\n",
    "Merge(3,1) = [1,3]\n",
    "\n",
    "Функция merge напоминает дерево. При каждом вызове мы тратим O(n) времени. На каждом уровне делим массив на 2, тогда получим log n  уровней. Тогда в общем получим O(n log n)"
   ]
  },
  {
   "cell_type": "code",
   "execution_count": 3,
   "metadata": {
    "collapsed": true
   },
   "outputs": [],
   "source": [
    "def MergeSort(a):\n",
    "    m = len(list(a)) // 2\n",
    "    if m == 0:\n",
    "        return merge(a[:m], a[m:])\n",
    "    else:\n",
    "        return  merge(MergeSort(a[:m]), MergeSort(a[m:]))"
   ]
  },
  {
   "cell_type": "code",
   "execution_count": 4,
   "metadata": {},
   "outputs": [
    {
     "name": "stdout",
     "output_type": "stream",
     "text": [
      "-700 -96 -76 -60 -60 -1 30 98 123\n"
     ]
    }
   ],
   "source": [
    "print(*MergeSort(a))"
   ]
  },
  {
   "cell_type": "code",
   "execution_count": null,
   "metadata": {
    "collapsed": true
   },
   "outputs": [],
   "source": []
  },
  {
   "cell_type": "code",
   "execution_count": null,
   "metadata": {
    "collapsed": true
   },
   "outputs": [],
   "source": []
  },
  {
   "cell_type": "code",
   "execution_count": null,
   "metadata": {
    "collapsed": true
   },
   "outputs": [],
   "source": [
    "# Биатлон"
   ]
  },
  {
   "cell_type": "code",
   "execution_count": 47,
   "metadata": {
    "collapsed": true
   },
   "outputs": [],
   "source": [
    "lst = []\n",
    "with open('input.txt') as fh:\n",
    "    for line in fh:\n",
    "        lst.append(list(map(int,line.strip().split())))"
   ]
  },
  {
   "cell_type": "code",
   "execution_count": 48,
   "metadata": {
    "collapsed": true
   },
   "outputs": [],
   "source": [
    "N = lst[0][0]\n",
    "L = lst[0][1]\n",
    "w = lst[1]"
   ]
  },
  {
   "cell_type": "code",
   "execution_count": 49,
   "metadata": {},
   "outputs": [],
   "source": [
    "total_time = [w[i] * L + i * 1 for i in range(N)]"
   ]
  },
  {
   "cell_type": "code",
   "execution_count": 50,
   "metadata": {},
   "outputs": [
    {
     "data": {
      "text/plain": [
       "[20, 20, 20, 20, 20]"
      ]
     },
     "execution_count": 50,
     "metadata": {},
     "output_type": "execute_result"
    }
   ],
   "source": [
    "total_time"
   ]
  },
  {
   "cell_type": "code",
   "execution_count": 51,
   "metadata": {
    "collapsed": true
   },
   "outputs": [],
   "source": [
    "answer = 0\n",
    "def merge(a, b):\n",
    "    global answer\n",
    "    c = []\n",
    "    i = 0\n",
    "    j = 0\n",
    "    while i < len(a) or j < len(b):\n",
    "        if i < len(a) and (j >= len(b) or a[i] <= b[j]): \n",
    "            c.append(a[i])\n",
    "            answer += j\n",
    "            i += 1\n",
    "        else:\n",
    "            c.append(b[j])\n",
    "            j += 1\n",
    "    return c"
   ]
  },
  {
   "cell_type": "code",
   "execution_count": 57,
   "metadata": {
    "collapsed": true
   },
   "outputs": [],
   "source": [
    "def MergeSort(a):\n",
    "    m = len(list(a)) // 2\n",
    "    if m == 0:\n",
    "        return merge(a[:m], a[m:])\n",
    "    else:\n",
    "        return merge(MergeSort(a[:m]), MergeSort(a[m:]))"
   ]
  },
  {
   "cell_type": "code",
   "execution_count": 59,
   "metadata": {},
   "outputs": [],
   "source": [
    "output = MergeSort(total_time)"
   ]
  },
  {
   "cell_type": "code",
   "execution_count": 40,
   "metadata": {},
   "outputs": [
    {
     "data": {
      "text/plain": [
       "0"
      ]
     },
     "execution_count": 40,
     "metadata": {},
     "output_type": "execute_result"
    }
   ],
   "source": [
    "answer"
   ]
  },
  {
   "cell_type": "code",
   "execution_count": null,
   "metadata": {
    "collapsed": true
   },
   "outputs": [],
   "source": []
  },
  {
   "cell_type": "code",
   "execution_count": null,
   "metadata": {
    "collapsed": true
   },
   "outputs": [],
   "source": []
  },
  {
   "cell_type": "code",
   "execution_count": null,
   "metadata": {
    "collapsed": true
   },
   "outputs": [],
   "source": []
  }
 ],
 "metadata": {
  "kernelspec": {
   "display_name": "Python 3",
   "language": "python",
   "name": "python3"
  },
  "language_info": {
   "codemirror_mode": {
    "name": "ipython",
    "version": 3
   },
   "file_extension": ".py",
   "mimetype": "text/x-python",
   "name": "python",
   "nbconvert_exporter": "python",
   "pygments_lexer": "ipython3",
   "version": "3.6.1"
  }
 },
 "nbformat": 4,
 "nbformat_minor": 2
}
