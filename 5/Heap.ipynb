{
 "cells": [
  {
   "cell_type": "markdown",
   "metadata": {},
   "source": [
    "Куча - это бинарное дерево, где в каждом узле - не больше двух потомков. Дерево может быть неполным, то есть у узла может быть 1 потомок. Значение потомка всегда больше значения узла."
   ]
  },
  {
   "cell_type": "code",
   "execution_count": 33,
   "metadata": {
    "collapsed": true
   },
   "outputs": [],
   "source": [
    "lst = []\n",
    "with open('input.txt') as fh:\n",
    "    for line in fh:\n",
    "        lst.append(list(map(int,line.strip().split())))"
   ]
  },
  {
   "cell_type": "code",
   "execution_count": 34,
   "metadata": {
    "collapsed": true
   },
   "outputs": [],
   "source": [
    "n = lst[0][0]\n",
    "b = lst[1]"
   ]
  },
  {
   "cell_type": "code",
   "execution_count": 38,
   "metadata": {
    "collapsed": true
   },
   "outputs": [],
   "source": [
    "class Heap:\n",
    "    a = []\n",
    "    def __init__(self):\n",
    "        self.a = []\n",
    "    \n",
    "    def SiftUp(self, child):\n",
    "        parent = (child - 1) // 2\n",
    "        while child > 0 and self.a[child] < self.a[parent]:\n",
    "            self.a[child], self.a[parent] = self.a[parent], self.a[child]\n",
    "            child = parent\n",
    "            parent = (child - 1) // 2\n",
    "    \n",
    "    def SiftDown(self, parent):\n",
    "        while 2 * parent + 1 < len(self.a):\n",
    "            left = 2 * parent + 1\n",
    "            right = 2 * parent + 2\n",
    "\n",
    "            minChild = left\n",
    "            if right < len(self.a) and self.a[right] < self.a[left]:\n",
    "                minChild = right\n",
    "\n",
    "            if self.a[minChild] > self.a[parent]:\n",
    "                break\n",
    "\n",
    "            self.a[minChild], self.a[parent] = self.a[parent], self.a[minChild]\n",
    "            parent = minChild\n",
    "        \n",
    "    \n",
    "    def Push(self, el):\n",
    "        self.a.append(el)\n",
    "        self.SiftUp(len(self.a) - 1)\n",
    "        \n",
    "    def ExtractMin(self):\n",
    "        minEl = self.a[0]\n",
    "        self.a[0], self.a[-1] = self.a[-1], self.a[0]\n",
    "        self.a.pop()\n",
    "        self.SiftDown(0)\n",
    "        return minEl\n",
    "    \n",
    "    def GetMin(self):\n",
    "        return self.a[0]"
   ]
  },
  {
   "cell_type": "code",
   "execution_count": 41,
   "metadata": {
    "collapsed": true
   },
   "outputs": [],
   "source": [
    "h = Heap()\n",
    "for i in range(n):\n",
    "    h.Push(b[i])"
   ]
  },
  {
   "cell_type": "code",
   "execution_count": 42,
   "metadata": {},
   "outputs": [
    {
     "name": "stdout",
     "output_type": "stream",
     "text": [
      "3 4 5 8 9\n"
     ]
    }
   ],
   "source": [
    "answer = []\n",
    "for i in range(n):\n",
    "    answer.append(h.ExtractMin())\n",
    "    \n",
    "print(*answer)"
   ]
  },
  {
   "cell_type": "code",
   "execution_count": null,
   "metadata": {
    "collapsed": true
   },
   "outputs": [],
   "source": []
  },
  {
   "cell_type": "code",
   "execution_count": null,
   "metadata": {
    "collapsed": true
   },
   "outputs": [],
   "source": []
  },
  {
   "cell_type": "code",
   "execution_count": 60,
   "metadata": {
    "collapsed": true
   },
   "outputs": [],
   "source": [
    "lst = []\n",
    "with open('input.txt') as fh:\n",
    "    for line in fh:\n",
    "        lst.append(line.strip().split())"
   ]
  },
  {
   "cell_type": "code",
   "execution_count": 153,
   "metadata": {
    "collapsed": true
   },
   "outputs": [],
   "source": [
    "class Heap1:\n",
    "    a = []\n",
    "    def __init__(self):\n",
    "        self.a = []\n",
    "    \n",
    "    def SiftUp(self, child):\n",
    "        parent = (child - 1) // 2\n",
    "        while child > 0 and self.a[child] < self.a[parent]:\n",
    "            self.a[child], self.a[parent] = self.a[parent], self.a[child]\n",
    "            child = parent\n",
    "            parent = (child - 1) // 2\n",
    "    \n",
    "    def SiftDown(self, parent):\n",
    "        while 2 * parent + 1 < len(self.a):\n",
    "            left = 2 * parent + 1\n",
    "            right = 2 * parent + 2\n",
    "\n",
    "            minChild = left\n",
    "            if right < len(self.a) and self.a[right] < self.a[left]:\n",
    "                minChild = right\n",
    "\n",
    "            if self.a[minChild] > self.a[parent]:\n",
    "                break\n",
    "\n",
    "            self.a[minChild], self.a[parent] = self.a[parent], self.a[minChild]\n",
    "            parent = minChild\n",
    "        \n",
    "    \n",
    "    def Push(self, el):\n",
    "        self.a.append(el)\n",
    "        self.SiftUp(len(self.a) - 1)\n",
    "        \n",
    "    def ExtractMin(self):\n",
    "        if self.a != []:\n",
    "            minEl = self.a[0]\n",
    "            self.a[0], self.a[-1] = self.a[-1], self.a[0]\n",
    "            self.a.pop()\n",
    "            self.SiftDown(0)\n",
    "            return minEl\n",
    "\n",
    "    \n",
    "    def Clear(self):\n",
    "        self.a.clear()\n",
    "    \n",
    "    def GetMin(self):\n",
    "        return self.a[0]"
   ]
  },
  {
   "cell_type": "code",
   "execution_count": 63,
   "metadata": {},
   "outputs": [
    {
     "name": "stdout",
     "output_type": "stream",
     "text": [
      "281305\n",
      "562475\n",
      "876406\n",
      "960204\n",
      "1035495\n"
     ]
    }
   ],
   "source": [
    "heap = Heap1()\n",
    "for line in lst:\n",
    "    if 'ADD' in line:\n",
    "        heap.Push(int(line[1]))\n",
    "    elif 'EXTRACT' in line:\n",
    "        heap.ExtractMin()\n",
    "    elif 'CLEAR' in line:\n",
    "        heap.Clear()"
   ]
  },
  {
   "cell_type": "code",
   "execution_count": null,
   "metadata": {
    "collapsed": true
   },
   "outputs": [],
   "source": []
  },
  {
   "cell_type": "code",
   "execution_count": null,
   "metadata": {
    "collapsed": true
   },
   "outputs": [],
   "source": []
  },
  {
   "cell_type": "code",
   "execution_count": null,
   "metadata": {
    "collapsed": true
   },
   "outputs": [],
   "source": []
  },
  {
   "cell_type": "code",
   "execution_count": 72,
   "metadata": {
    "collapsed": true
   },
   "outputs": [],
   "source": [
    "lst = []\n",
    "with open('input.txt') as fh:\n",
    "    for line in fh:\n",
    "        lst.append(line.strip().split())"
   ]
  },
  {
   "cell_type": "code",
   "execution_count": 152,
   "metadata": {
    "collapsed": true
   },
   "outputs": [],
   "source": [
    "class Heap2:\n",
    "    a = []\n",
    "    def __init__(self):\n",
    "        self.a = []\n",
    "    \n",
    "    def SiftUp(self, child):\n",
    "        parent = (child - 1) // 2\n",
    "        while child > 0 and self.a[child] > self.a[parent]:\n",
    "            self.a[child], self.a[parent] = self.a[parent], self.a[child]\n",
    "            child = parent\n",
    "            parent = (child - 1) // 2\n",
    "    \n",
    "    def SiftDown(self, parent):\n",
    "        while 2 * parent + 1 < len(self.a):\n",
    "            left = 2 * parent + 1\n",
    "            right = 2 * parent + 2\n",
    "\n",
    "            maxChild = left\n",
    "            if right < len(self.a) and self.a[right] > self.a[left]:\n",
    "                maxChild = right\n",
    "\n",
    "            if self.a[maxChild] < self.a[parent]:\n",
    "                break\n",
    "\n",
    "            self.a[maxChild], self.a[parent] = self.a[parent], self.a[maxChild]\n",
    "            parent = maxChild\n",
    "        \n",
    "    \n",
    "    def Push(self, el):\n",
    "        self.a.append(el)\n",
    "        self.SiftUp(len(self.a) - 1)\n",
    "        \n",
    "    def ExtractMax(self):\n",
    "        if self.a != []:\n",
    "            maxEl = self.a[0]\n",
    "            self.a[0], self.a[-1] = self.a[-1], self.a[0]\n",
    "            self.a.pop()\n",
    "            self.SiftDown(0)\n",
    "            return maxEl\n",
    "\n",
    "    \n",
    "    def Clear(self):\n",
    "        self.a.clear()\n",
    "    \n",
    "    def GetMin(self):\n",
    "        return self.a[0]"
   ]
  },
  {
   "cell_type": "code",
   "execution_count": 74,
   "metadata": {},
   "outputs": [
    {
     "name": "stdout",
     "output_type": "stream",
     "text": [
      "960204\n",
      "876406\n",
      "1035495\n",
      "562475\n",
      "281305\n"
     ]
    }
   ],
   "source": [
    "heap = Heap2()\n",
    "for line in lst:\n",
    "    if 'ADD' in line:\n",
    "        heap.Push(int(line[1]))\n",
    "    elif 'EXTRACT' in line:\n",
    "        heap.ExtractMax()\n",
    "    elif 'CLEAR' in line:\n",
    "        heap.Clear()"
   ]
  },
  {
   "cell_type": "code",
   "execution_count": null,
   "metadata": {
    "collapsed": true
   },
   "outputs": [],
   "source": []
  },
  {
   "cell_type": "code",
   "execution_count": null,
   "metadata": {
    "collapsed": true
   },
   "outputs": [],
   "source": []
  },
  {
   "cell_type": "code",
   "execution_count": 115,
   "metadata": {
    "collapsed": true
   },
   "outputs": [],
   "source": [
    "lst = []\n",
    "with open('input.txt') as fh:\n",
    "    for line in fh:\n",
    "        lst.append(list(map(int,line.strip().split())))"
   ]
  },
  {
   "cell_type": "code",
   "execution_count": 116,
   "metadata": {
    "collapsed": true
   },
   "outputs": [],
   "source": [
    "s = lst[0][0]\n",
    "a = lst[1]"
   ]
  },
  {
   "cell_type": "code",
   "execution_count": 119,
   "metadata": {
    "collapsed": true
   },
   "outputs": [],
   "source": [
    "def merge(a, b):\n",
    "    c = []\n",
    "    i = 0\n",
    "    j = 0\n",
    "    while i < len(a) or j < len(b):\n",
    "        # a[i] <= b[j] - часть, отвечающая за сортировку\n",
    "        # j >= len(b) -  отвечает за слуйчай, когда массив b закончился\n",
    "        # итого, аппендим a, когда элемент a меньше либо равен элементу b, либо когда массив b закончился, а массив a нет\n",
    "        if i < len(a) and (j >= len(b) or a[i] <= b[j]): \n",
    "            c.append(a[i])\n",
    "            i += 1\n",
    "        else:\n",
    "            c.append(b[j])\n",
    "            j += 1\n",
    "    return c\n",
    "\n",
    "\n",
    "def MergeSort(a):\n",
    "    m = len(list(a)) // 2\n",
    "    if m == 0:\n",
    "        return merge(a[:m], a[m:])\n",
    "    else:\n",
    "        return  merge(MergeSort(a[:m]), MergeSort(a[m:]))"
   ]
  },
  {
   "cell_type": "code",
   "execution_count": 129,
   "metadata": {},
   "outputs": [
    {
     "name": "stdout",
     "output_type": "stream",
     "text": [
      "4\n"
     ]
    }
   ],
   "source": [
    "answer = 0\n",
    "for el in MergeSort(a):\n",
    "    if el >= s:\n",
    "        s = el + 3\n",
    "        answer += 1\n",
    "print(answer)   "
   ]
  },
  {
   "cell_type": "code",
   "execution_count": 128,
   "metadata": {},
   "outputs": [
    {
     "data": {
      "text/plain": [
       "[2, 23, 54, 57, 78, 99]"
      ]
     },
     "execution_count": 128,
     "metadata": {},
     "output_type": "execute_result"
    }
   ],
   "source": [
    "MergeSort(a)"
   ]
  },
  {
   "cell_type": "code",
   "execution_count": null,
   "metadata": {
    "collapsed": true
   },
   "outputs": [],
   "source": []
  },
  {
   "cell_type": "code",
   "execution_count": 135,
   "metadata": {},
   "outputs": [
    {
     "data": {
      "text/plain": [
       "[3, 5, 1, 7, 9, 0, 9, -3, 10]"
      ]
     },
     "execution_count": 135,
     "metadata": {},
     "output_type": "execute_result"
    }
   ],
   "source": [
    "a"
   ]
  },
  {
   "cell_type": "code",
   "execution_count": 160,
   "metadata": {
    "collapsed": true
   },
   "outputs": [],
   "source": [
    "a = list(map(int, open('input.txt').read().split()))"
   ]
  },
  {
   "cell_type": "code",
   "execution_count": 157,
   "metadata": {
    "collapsed": true
   },
   "outputs": [],
   "source": [
    "class Heap1:\n",
    "    a = []\n",
    "    def __init__(self):\n",
    "        self.a = []\n",
    "    \n",
    "    def SiftUp(self, child):\n",
    "        parent = (child - 1) // 2\n",
    "        while child > 0 and self.a[child] < self.a[parent]:\n",
    "            self.a[child], self.a[parent] = self.a[parent], self.a[child]\n",
    "            child = parent\n",
    "            parent = (child - 1) // 2\n",
    "    \n",
    "    def SiftDown(self, parent):\n",
    "        while 2 * parent + 1 < len(self.a):\n",
    "            left = 2 * parent + 1\n",
    "            right = 2 * parent + 2\n",
    "\n",
    "            minChild = left\n",
    "            if right < len(self.a) and self.a[right] < self.a[left]:\n",
    "                minChild = right\n",
    "\n",
    "            if self.a[minChild] > self.a[parent]:\n",
    "                break\n",
    "\n",
    "            self.a[minChild], self.a[parent] = self.a[parent], self.a[minChild]\n",
    "            parent = minChild\n",
    "        \n",
    "    \n",
    "    def Push(self, el):\n",
    "        self.a.append(el)\n",
    "        self.SiftUp(len(self.a) - 1)\n",
    "        \n",
    "    def ExtractMin(self):\n",
    "        if self.a != []:\n",
    "            minEl = self.a[0]\n",
    "            self.a[0], self.a[-1] = self.a[-1], self.a[0]\n",
    "            self.a.pop()\n",
    "            self.SiftDown(0)\n",
    "            return minEl\n",
    "\n",
    "    \n",
    "    def Clear(self):\n",
    "        self.a.clear()\n",
    "    \n",
    "    def GetMin(self):\n",
    "        return self.a[0]"
   ]
  },
  {
   "cell_type": "code",
   "execution_count": 158,
   "metadata": {
    "collapsed": true
   },
   "outputs": [],
   "source": [
    "class Heap2:\n",
    "    a = []\n",
    "    def __init__(self):\n",
    "        self.a = []\n",
    "    \n",
    "    def SiftUp(self, child):\n",
    "        parent = (child - 1) // 2\n",
    "        while child > 0 and self.a[child] > self.a[parent]:\n",
    "            self.a[child], self.a[parent] = self.a[parent], self.a[child]\n",
    "            child = parent\n",
    "            parent = (child - 1) // 2\n",
    "    \n",
    "    def SiftDown(self, parent):\n",
    "        while 2 * parent + 1 < len(self.a):\n",
    "            left = 2 * parent + 1\n",
    "            right = 2 * parent + 2\n",
    "\n",
    "            maxChild = left\n",
    "            if right < len(self.a) and self.a[right] > self.a[left]:\n",
    "                maxChild = right\n",
    "\n",
    "            if self.a[maxChild] < self.a[parent]:\n",
    "                break\n",
    "\n",
    "            self.a[maxChild], self.a[parent] = self.a[parent], self.a[maxChild]\n",
    "            parent = maxChild\n",
    "        \n",
    "    \n",
    "    def Push(self, el):\n",
    "        self.a.append(el)\n",
    "        self.SiftUp(len(self.a) - 1)\n",
    "        \n",
    "    def ExtractMax(self):\n",
    "        if self.a != []:\n",
    "            maxEl = self.a[0]\n",
    "            self.a[0], self.a[-1] = self.a[-1], self.a[0]\n",
    "            self.a.pop()\n",
    "            self.SiftDown(0)\n",
    "            return maxEl\n",
    "\n",
    "    \n",
    "    def Clear(self):\n",
    "        self.a.clear()\n",
    "    \n",
    "    def GetMin(self):\n",
    "        return self.a[0]"
   ]
  },
  {
   "cell_type": "code",
   "execution_count": 178,
   "metadata": {
    "collapsed": true
   },
   "outputs": [],
   "source": [
    "a = [-75, -65, -6, 1]"
   ]
  },
  {
   "cell_type": "code",
   "execution_count": 179,
   "metadata": {
    "collapsed": true
   },
   "outputs": [],
   "source": [
    "h_max = Heap2()\n",
    "for i in range(len(a)):\n",
    "    h_max.Push(a[i])\n",
    "    \n",
    "max_list = []\n",
    "for i in range(3):\n",
    "    max_list.append(h_max.ExtractMax())"
   ]
  },
  {
   "cell_type": "code",
   "execution_count": 180,
   "metadata": {
    "collapsed": true
   },
   "outputs": [],
   "source": [
    "h_min = Heap1()\n",
    "for i in range(len(a)):\n",
    "    h_min.Push(a[i])\n",
    "    \n",
    "min_list = []\n",
    "for i in range(2):\n",
    "    min_list.append(h_min.ExtractMin())"
   ]
  },
  {
   "cell_type": "code",
   "execution_count": 181,
   "metadata": {},
   "outputs": [
    {
     "name": "stdout",
     "output_type": "stream",
     "text": [
      "1 -75 -65\n"
     ]
    }
   ],
   "source": [
    "if max_list[0] * max_list[1] * max_list[2] >= max_list[0] * min_list[0] * min_list[1]:\n",
    "    print(*max_list)\n",
    "else:\n",
    "    print(max_list[0], *min_list)"
   ]
  },
  {
   "cell_type": "code",
   "execution_count": null,
   "metadata": {
    "collapsed": true
   },
   "outputs": [],
   "source": []
  },
  {
   "cell_type": "code",
   "execution_count": null,
   "metadata": {
    "collapsed": true
   },
   "outputs": [],
   "source": []
  },
  {
   "cell_type": "code",
   "execution_count": null,
   "metadata": {
    "collapsed": true
   },
   "outputs": [],
   "source": [
    "# Биатлон"
   ]
  },
  {
   "cell_type": "code",
   "execution_count": 182,
   "metadata": {
    "collapsed": true
   },
   "outputs": [],
   "source": [
    "lst = []\n",
    "with open('input.txt') as fh:\n",
    "    for line in fh:\n",
    "        lst.append(list(map(int,line.strip().split())))"
   ]
  },
  {
   "cell_type": "code",
   "execution_count": 184,
   "metadata": {
    "collapsed": true
   },
   "outputs": [],
   "source": [
    "N = lst[0][0]\n",
    "L = lst[0][1]\n",
    "w = lst[1]"
   ]
  },
  {
   "cell_type": "markdown",
   "metadata": {},
   "source": [
    "class Heap:\n",
    "    a = []\n",
    "    def __init__(self):\n",
    "        self.a = []\n",
    "    \n",
    "    def SiftUp(self, child):\n",
    "        parent = (child - 1) // 2\n",
    "        while child > 0 and self.a[child] < self.a[parent]:\n",
    "            self.a[child], self.a[parent] = self.a[parent], self.a[child]\n",
    "            child = parent\n",
    "            parent = (child - 1) // 2\n",
    "    \n",
    "    def SiftDown(self, parent):\n",
    "        while 2 * parent + 1 < len(self.a):\n",
    "            left = 2 * parent + 1\n",
    "            right = 2 * parent + 2\n",
    "\n",
    "            minChild = left\n",
    "            if right < len(self.a) and self.a[right] < self.a[left]:\n",
    "                minChild = right\n",
    "\n",
    "            if self.a[minChild] > self.a[parent]:\n",
    "                break\n",
    "\n",
    "            self.a[minChild], self.a[parent] = self.a[parent], self.a[minChild]\n",
    "            parent = minChild\n",
    "        \n",
    "    \n",
    "    def Push(self, el):\n",
    "        self.a.append(el)\n",
    "        self.SiftUp(len(self.a) - 1)\n",
    "      \n",
    "    def ExtractMin(self):\n",
    "        minEl = self.a[0]\n",
    "        self.a[0], self.a[-1] = self.a[-1], self.a[0]\n",
    "        self.a.pop()\n",
    "        self.SiftDown(0)\n",
    "        return minEl\n",
    "    \n",
    "    def GetMin(self):\n",
    "        return self.a[0]"
   ]
  },
  {
   "cell_type": "markdown",
   "metadata": {},
   "source": [
    "h = Heap()\n",
    "\n",
    "cnt = 0\n",
    "mins = []\n",
    "for i in range(N):\n",
    "    total_time = w[i] * L + i * 1\n",
    "    h.Push(total_time)\n",
    "    #print(h.a)\n",
    "    mins.append(h.GetMin()) \n",
    "    print(mins)\n",
    "    if  i > 0:\n",
    "        j = 0\n",
    "        while j < i:\n",
    "            if total_time < mins[-j - 1]:\n",
    "                print(total_time, mins[-j - 1])\n",
    "                cnt += (i + 1) - j\n",
    "                print(cnt)\n",
    "                j += 1\n",
    "                break\n",
    "            else:\n",
    "                j += 1"
   ]
  },
  {
   "cell_type": "code",
   "execution_count": null,
   "metadata": {
    "collapsed": true
   },
   "outputs": [],
   "source": []
  },
  {
   "cell_type": "code",
   "execution_count": null,
   "metadata": {
    "collapsed": true
   },
   "outputs": [],
   "source": []
  },
  {
   "cell_type": "code",
   "execution_count": 245,
   "metadata": {
    "collapsed": true
   },
   "outputs": [],
   "source": []
  },
  {
   "cell_type": "code",
   "execution_count": null,
   "metadata": {
    "collapsed": true
   },
   "outputs": [],
   "source": []
  }
 ],
 "metadata": {
  "kernelspec": {
   "display_name": "Python 3",
   "language": "python",
   "name": "python3"
  },
  "language_info": {
   "codemirror_mode": {
    "name": "ipython",
    "version": 3
   },
   "file_extension": ".py",
   "mimetype": "text/x-python",
   "name": "python",
   "nbconvert_exporter": "python",
   "pygments_lexer": "ipython3",
   "version": "3.6.1"
  }
 },
 "nbformat": 4,
 "nbformat_minor": 2
}
