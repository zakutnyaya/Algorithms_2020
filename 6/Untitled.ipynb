{
 "cells": [
  {
   "cell_type": "code",
   "execution_count": 72,
   "metadata": {},
   "outputs": [
    {
     "name": "stdout",
     "output_type": "stream",
     "text": [
      "[2, 3, 0, 4, 5, 6, 7, 9, 10, 10]\n"
     ]
    },
    {
     "data": {
      "text/plain": [
       "[2, 3, 0, 4, 5, 6, 7, 9, 10, 10]"
      ]
     },
     "execution_count": 72,
     "metadata": {},
     "output_type": "execute_result"
    }
   ],
   "source": [
    "def partition(a, l, r, pivot):\n",
    "    nl = l\n",
    "    nr = r\n",
    "    while nl <= nr:\n",
    "        while a[nl] < pivot:\n",
    "            nl += 1\n",
    "        while a[nr] > pivot:\n",
    "            nr -= 1\n",
    "\n",
    "        if nl > nr:\n",
    "            break\n",
    "\n",
    "        a[nr], a[nl] = a[nl], a[nr]\n",
    "        nl += 1\n",
    "        nr -= 1\n",
    "        \n",
    "    print(a)\n",
    "    return nl, nr\n",
    "\n",
    "a = [10, 9, 0, 7, 6, 5, 4, 3, 2, 10]\n",
    "partition(a, 0, 9, 5)\n",
    "a"
   ]
  },
  {
   "cell_type": "code",
   "execution_count": 74,
   "metadata": {},
   "outputs": [],
   "source": [
    "from random import randint\n",
    "\n",
    "def qsort(a, l, r):\n",
    "    if l >= r:\n",
    "        return\n",
    "\n",
    "    pivot = a[randint(0, len(a) - 1)]\n",
    "    nl = l\n",
    "    nr = r\n",
    "    while nl <= nr:\n",
    "        while a[nl] < pivot:\n",
    "            nl += 1\n",
    "        while a[nr] > pivot:\n",
    "            nr -= 1\n",
    "\n",
    "        if nl > nr:\n",
    "            break\n",
    "\n",
    "        a[nr], a[nl] = a[nl], a[nr]\n",
    "        nl += 1\n",
    "        nr -= 1\n",
    "    qsort(a, l, nr)\n",
    "    qsort(a, nl, r)"
   ]
  },
  {
   "cell_type": "code",
   "execution_count": 76,
   "metadata": {},
   "outputs": [
    {
     "data": {
      "text/plain": [
       "[1, 2, 3]"
      ]
     },
     "execution_count": 76,
     "metadata": {},
     "output_type": "execute_result"
    }
   ],
   "source": [
    "a = [3, 2, 1]\n",
    "qsort(a, 0, 2)\n",
    "a"
   ]
  },
  {
   "cell_type": "code",
   "execution_count": null,
   "metadata": {},
   "outputs": [],
   "source": []
  },
  {
   "cell_type": "code",
   "execution_count": 67,
   "metadata": {},
   "outputs": [],
   "source": [
    "def count_sort(a):\n",
    "    c = [0] * 100\n",
    "\n",
    "    for el in a:\n",
    "        c[el] += 1\n",
    "\n",
    "    ans = []\n",
    "    for i in range(len(c)):\n",
    "        for j in range(c[i]):\n",
    "            ans.append(i)\n",
    "    print(ans)"
   ]
  },
  {
   "cell_type": "code",
   "execution_count": 71,
   "metadata": {},
   "outputs": [
    {
     "name": "stdout",
     "output_type": "stream",
     "text": [
      "[0, 0, 1, 2, 2, 2, 3, 9, 99]\n"
     ]
    }
   ],
   "source": [
    "count_sort([3, 2, 1, 0, 9, 99, 0, 2, 2])"
   ]
  },
  {
   "cell_type": "code",
   "execution_count": null,
   "metadata": {},
   "outputs": [],
   "source": []
  },
  {
   "cell_type": "code",
   "execution_count": 63,
   "metadata": {},
   "outputs": [],
   "source": []
  },
  {
   "cell_type": "code",
   "execution_count": null,
   "metadata": {},
   "outputs": [],
   "source": []
  },
  {
   "cell_type": "code",
   "execution_count": null,
   "metadata": {},
   "outputs": [],
   "source": []
  },
  {
   "cell_type": "code",
   "execution_count": null,
   "metadata": {},
   "outputs": [],
   "source": []
  },
  {
   "cell_type": "code",
   "execution_count": null,
   "metadata": {},
   "outputs": [],
   "source": []
  },
  {
   "cell_type": "code",
   "execution_count": null,
   "metadata": {},
   "outputs": [],
   "source": [
    "def quickSort(a, l, r):\n",
    "    if (l < r):\n",
    "        left = l\n",
    "        right = r;\n",
    "        pivot = a[randint(0, len(a) - 1)]\n",
    "        \n",
    "        while left <= right:\n",
    "            while (a[left] < pivot):\n",
    "                left += 1\n",
    "            while (a[right] > pivot):\n",
    "                right -= 1;\n",
    "            \n",
    "            if left <= right:\n",
    "                a[left], a[right] = a[right], a[left]\n",
    "                left += 1\n",
    "                right -= 1\n",
    "        \n",
    "        quickSort(a, l, right);\n",
    "        quickSort(a, left, r);\n",
    "\n"
   ]
  },
  {
   "cell_type": "code",
   "execution_count": null,
   "metadata": {},
   "outputs": [],
   "source": []
  },
  {
   "cell_type": "code",
   "execution_count": null,
   "metadata": {},
   "outputs": [],
   "source": []
  }
 ],
 "metadata": {
  "kernelspec": {
   "display_name": "Python 3",
   "language": "python",
   "name": "python3"
  },
  "language_info": {
   "codemirror_mode": {
    "name": "ipython",
    "version": 3
   },
   "file_extension": ".py",
   "mimetype": "text/x-python",
   "name": "python",
   "nbconvert_exporter": "python",
   "pygments_lexer": "ipython3",
   "version": "3.7.5"
  }
 },
 "nbformat": 4,
 "nbformat_minor": 4
}
