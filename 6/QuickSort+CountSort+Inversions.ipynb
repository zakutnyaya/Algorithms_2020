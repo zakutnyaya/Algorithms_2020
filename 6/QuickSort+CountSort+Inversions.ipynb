{
 "cells": [
  {
   "cell_type": "markdown",
   "metadata": {},
   "source": [
    "### Quick Sort"
   ]
  },
  {
   "cell_type": "code",
   "execution_count": null,
   "metadata": {
    "collapsed": true
   },
   "outputs": [],
   "source": [
    "partition([5,6,7], 0, 3, 7)"
   ]
  },
  {
   "cell_type": "code",
   "execution_count": 2,
   "metadata": {
    "collapsed": true
   },
   "outputs": [],
   "source": [
    "import random"
   ]
  },
  {
   "cell_type": "code",
   "execution_count": null,
   "metadata": {
    "collapsed": true
   },
   "outputs": [],
   "source": [
    "def partition(a, start, end, pivot):\n",
    "    l = start\n",
    "    r = end - 1\n",
    "    while l <= r:\n",
    "        while a[l] < pivot:\n",
    "            l += 1\n",
    "        while a[r] > pivot:\n",
    "            r -= 1\n",
    "        \n",
    "        if l > r:\n",
    "            break\n",
    "            \n",
    "        if l - start == (end - start - 1):\n",
    "            break\n",
    "            \n",
    "        a[l], a[r] = a[r], a[l]\n",
    "        l += 1\n",
    "        r -= 1\n",
    "       \n",
    "    return l\n",
    "        "
   ]
  },
  {
   "cell_type": "code",
   "execution_count": 230,
   "metadata": {
    "collapsed": true
   },
   "outputs": [],
   "source": [
    "a = [7, 2, 3, 1, 5, 3, 1, 2, 4, 6, 1]\n",
    "l = 0\n",
    "r = len(a)\n",
    "\n",
    "def QuickSort(a, l, r):\n",
    "    print(a[l:r])\n",
    "    random.seed(7)\n",
    "    if (r - l) == 1:\n",
    "        pass\n",
    "\n",
    "    else:\n",
    "        rand_ind = random.randint(l, r-1)\n",
    "        pivot = a[rand_ind]\n",
    "        print(rand_ind, pivot)\n",
    "        index = partition(a, l, r, pivot)\n",
    "        print(index)\n",
    "        QuickSort(a, l, index), QuickSort(a, index, r)"
   ]
  },
  {
   "cell_type": "code",
   "execution_count": null,
   "metadata": {
    "collapsed": true
   },
   "outputs": [],
   "source": [
    "QuickSort(a, l, r)"
   ]
  },
  {
   "cell_type": "code",
   "execution_count": null,
   "metadata": {
    "collapsed": true
   },
   "outputs": [],
   "source": [
    "print(*a)"
   ]
  },
  {
   "cell_type": "markdown",
   "metadata": {
    "collapsed": true
   },
   "source": [
    "### Count Sort"
   ]
  },
  {
   "cell_type": "code",
   "execution_count": null,
   "metadata": {
    "collapsed": true
   },
   "outputs": [],
   "source": [
    "a = list(map(int, open('input.txt').read().strip().split()))"
   ]
  },
  {
   "cell_type": "code",
   "execution_count": null,
   "metadata": {
    "collapsed": true
   },
   "outputs": [],
   "source": [
    "a = [2, 100, 9, 56]"
   ]
  },
  {
   "cell_type": "code",
   "execution_count": null,
   "metadata": {
    "collapsed": true
   },
   "outputs": [],
   "source": [
    "c = [0] * 101"
   ]
  },
  {
   "cell_type": "code",
   "execution_count": null,
   "metadata": {
    "collapsed": true
   },
   "outputs": [],
   "source": [
    "for el in a:\n",
    "    c[el] += 1"
   ]
  },
  {
   "cell_type": "code",
   "execution_count": null,
   "metadata": {
    "collapsed": true
   },
   "outputs": [],
   "source": [
    "answer = []\n",
    "for i in range(101):\n",
    "    for j in range(c[i]):\n",
    "        answer.append(i)"
   ]
  },
  {
   "cell_type": "code",
   "execution_count": null,
   "metadata": {
    "collapsed": true
   },
   "outputs": [],
   "source": [
    "answer"
   ]
  },
  {
   "cell_type": "code",
   "execution_count": null,
   "metadata": {
    "collapsed": true
   },
   "outputs": [],
   "source": []
  }
 ],
 "metadata": {
  "kernelspec": {
   "display_name": "Python 3",
   "language": "python",
   "name": "python3"
  },
  "language_info": {
   "codemirror_mode": {
    "name": "ipython",
    "version": 3
   },
   "file_extension": ".py",
   "mimetype": "text/x-python",
   "name": "python",
   "nbconvert_exporter": "python",
   "pygments_lexer": "ipython3",
   "version": "3.6.1"
  }
 },
 "nbformat": 4,
 "nbformat_minor": 2
}
