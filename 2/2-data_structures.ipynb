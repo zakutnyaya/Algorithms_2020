{
 "cells": [
  {
   "cell_type": "markdown",
   "metadata": {},
   "source": [
    "# Амортизационный анализ. Простые структуры данных."
   ]
  },
  {
   "cell_type": "markdown",
   "metadata": {},
   "source": [
    "Зачем нужны разные структуры данных?\n",
    "Разная эффективность операций\n",
    "1. Добавление/удаление\n",
    "2. Поиск\n",
    "3. Random access (доступ по индексу)\n",
    "4. Поиск максимума/минимума\n",
    "и т. д.\n",
    "\n",
    "https://wiki.python.org/moin/TimeComplexity"
   ]
  },
  {
   "cell_type": "markdown",
   "metadata": {},
   "source": [
    "Массив (list)\n",
    "1. Добавление/удаление в конец -- O(1)\n",
    "2. Добавление/удаление в произвольное место -- O(N)\n",
    "3. Random access (доступ по индексу) -- O(1)\n",
    "4. Поиск элемента -- O(N)"
   ]
  },
  {
   "cell_type": "code",
   "execution_count": 12,
   "metadata": {},
   "outputs": [
    {
     "data": {
      "text/plain": [
       "[3, 3]"
      ]
     },
     "execution_count": 12,
     "metadata": {},
     "output_type": "execute_result"
    }
   ],
   "source": [
    "a = [1, 2, 3]\n",
    "# Доступ по индексу\n",
    "a[0] = 3 # O(1)\n",
    "\n",
    "# Добавление/удаление в конец\n",
    "a.append(4) # O(1)\n",
    "a.pop() # O(1)\n",
    "\n",
    "# Добавление/удаление в произвольное место\n",
    "a.insert(1, 5)\n",
    "a.pop(1)\n",
    "\n",
    "a.remove(2) # Удаление по значению = поиск! O(N)\n",
    "\n",
    "# Поиск\n",
    "a.index(3) # O(N)"
   ]
  },
  {
   "cell_type": "code",
   "execution_count": 21,
   "metadata": {},
   "outputs": [
    {
     "name": "stdout",
     "output_type": "stream",
     "text": [
      "[1, 3]\n"
     ]
    }
   ],
   "source": [
    "# Как могло бы быть устроено удаление по значению?\n",
    "\n",
    "a = [1, 2, 3]\n",
    "def remove(value):\n",
    "    # Поиск\n",
    "    index = -1\n",
    "    for i in range(len(a)):\n",
    "        if a[i] == value:\n",
    "            index = i\n",
    "            break\n",
    "    if index == -1:\n",
    "        raise ValueError(\"...\")\n",
    "    \n",
    "    # Копирование \"хвоста\"\n",
    "    for i in range(index, len(a) - 1):\n",
    "        a[i] = a[i + 1]\n",
    "    a.pop()\n",
    "\n",
    "remove(2)\n",
    "print(a) # [1, 3]"
   ]
  },
  {
   "cell_type": "code",
   "execution_count": 27,
   "metadata": {},
   "outputs": [
    {
     "name": "stdout",
     "output_type": "stream",
     "text": [
      "[1, 4, 3]\n"
     ]
    }
   ],
   "source": [
    "a = [1, 2, 3]\n",
    "b = a\n",
    "b[1] = 4\n",
    "print(a)"
   ]
  },
  {
   "cell_type": "code",
   "execution_count": 28,
   "metadata": {},
   "outputs": [
    {
     "name": "stdout",
     "output_type": "stream",
     "text": [
      "[1, 2, 3]\n"
     ]
    }
   ],
   "source": [
    "a = [1, 2, 3]\n",
    "b = a[:]\n",
    "b[1] = 4\n",
    "print(a)"
   ]
  },
  {
   "cell_type": "markdown",
   "metadata": {},
   "source": [
    "Deque"
   ]
  },
  {
   "cell_type": "code",
   "execution_count": 40,
   "metadata": {},
   "outputs": [
    {
     "data": {
      "text/plain": [
       "deque([1, 2, 4])"
      ]
     },
     "execution_count": 40,
     "metadata": {},
     "output_type": "execute_result"
    }
   ],
   "source": [
    "from collections import deque\n",
    "a = deque([1, 2, 3])\n",
    "\n",
    "# Все операции ниже работают за O(1)\n",
    "\n",
    "a.append(4) # [1, 2, 3, 4]\n",
    "a.appendleft(5) # [5, 1, 2, 3, 4]\n",
    "\n",
    "a.pop() # [5, 1, 2, 3]\n",
    "a.popleft() # [1, 2, 3]\n",
    "\n",
    "a[2] = 4"
   ]
  },
  {
   "cell_type": "code",
   "execution_count": null,
   "metadata": {},
   "outputs": [],
   "source": []
  },
  {
   "cell_type": "markdown",
   "metadata": {},
   "source": [
    "# Решения некоторых задач"
   ]
  },
  {
   "cell_type": "code",
   "execution_count": null,
   "metadata": {},
   "outputs": [],
   "source": [
    "push n\n",
    "pop\n",
    "back \n",
    "size\n",
    "clear\n",
    "exit\n",
    "\n",
    "[]"
   ]
  },
  {
   "cell_type": "code",
   "execution_count": 73,
   "metadata": {},
   "outputs": [
    {
     "name": "stdout",
     "output_type": "stream",
     "text": [
      "pop\n",
      "error\n",
      "back\n",
      "error\n",
      "push 1\n",
      "ok\n",
      "back\n",
      "1\n",
      "pop\n",
      "1\n",
      "back\n",
      "error\n",
      "exit\n",
      "bye\n"
     ]
    }
   ],
   "source": [
    "cur = input()\n",
    "a = []\n",
    "while cur != \"exit\":\n",
    "    if cur == \"pop\" or cur == \"back\":\n",
    "        if len(a) == 0:\n",
    "            print(\"error\")\n",
    "        else:\n",
    "            val = a[-1]\n",
    "            if cur == \"pop\":\n",
    "                a.pop()\n",
    "            print(val)\n",
    "    if cur == \"size\":\n",
    "        print(len(a))\n",
    "    if cur == \"clear\":\n",
    "        a = []\n",
    "        print(\"ok\")\n",
    "    if \"push\" in cur:\n",
    "        a.append(cur.split()[1])\n",
    "        print(\"ok\")\n",
    "    cur = input()\n",
    "print(\"bye\")"
   ]
  },
  {
   "cell_type": "code",
   "execution_count": null,
   "metadata": {},
   "outputs": [],
   "source": []
  },
  {
   "cell_type": "code",
   "execution_count": null,
   "metadata": {},
   "outputs": [],
   "source": [
    "for i in range(1000000):\n",
    "    # ...\n",
    "    if (len(d1) == 0):\n",
    "        print(..., i)\n",
    "        exit()\n",
    "    if (len(d2) == 0):\n",
    "        print(..., i)\n",
    "        exit()\n",
    "\n",
    "print(\"botva\")"
   ]
  },
  {
   "cell_type": "code",
   "execution_count": null,
   "metadata": {},
   "outputs": [],
   "source": []
  }
 ],
 "metadata": {
  "kernelspec": {
   "display_name": "Python 3",
   "language": "python",
   "name": "python3"
  },
  "language_info": {
   "codemirror_mode": {
    "name": "ipython",
    "version": 3
   },
   "file_extension": ".py",
   "mimetype": "text/x-python",
   "name": "python",
   "nbconvert_exporter": "python",
   "pygments_lexer": "ipython3",
   "version": "3.7.5"
  }
 },
 "nbformat": 4,
 "nbformat_minor": 4
}
