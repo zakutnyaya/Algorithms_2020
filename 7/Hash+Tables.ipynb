{
 "cells": [
  {
   "cell_type": "code",
   "execution_count": null,
   "metadata": {
    "collapsed": true
   },
   "outputs": [],
   "source": [
    "# A Частотный анализ"
   ]
  },
  {
   "cell_type": "code",
   "execution_count": null,
   "metadata": {
    "collapsed": true
   },
   "outputs": [],
   "source": [
    "lst = []\n",
    "with open('input.txt') as fh:\n",
    "    for line in fh:\n",
    "        lst.append(line.strip().split())"
   ]
  },
  {
   "cell_type": "code",
   "execution_count": null,
   "metadata": {
    "collapsed": true
   },
   "outputs": [],
   "source": [
    "p = 10 ** 9 + 7\n",
    "n = 10 ** 5\n",
    "def h(word):\n",
    "    a = 1\n",
    "    result = 0\n",
    "    for sym in word:\n",
    "        result += ord(sym) * a\n",
    "        a *= 307\n",
    "    return result % p % n"
   ]
  },
  {
   "cell_type": "code",
   "execution_count": null,
   "metadata": {
    "collapsed": true
   },
   "outputs": [],
   "source": [
    "A = [[] for _ in range(n)]\n",
    "\n",
    "def create_dict(word):\n",
    "    i = h(word)\n",
    "    bucket = A[i]\n",
    "    for el in bucket:\n",
    "        if el[0] == word:\n",
    "            el[1] += 1\n",
    "            return\n",
    "    bucket.append([word, 1])"
   ]
  },
  {
   "cell_type": "code",
   "execution_count": null,
   "metadata": {
    "collapsed": true
   },
   "outputs": [],
   "source": [
    "for line in lst:\n",
    "    for word in line:\n",
    "        create_dict(word)"
   ]
  },
  {
   "cell_type": "code",
   "execution_count": null,
   "metadata": {
    "collapsed": true,
    "scrolled": true
   },
   "outputs": [],
   "source": [
    "result = []\n",
    "for bucket in A:\n",
    "    if bucket != []:\n",
    "        for el in bucket:\n",
    "            result.append((-el[1], el[0]))"
   ]
  },
  {
   "cell_type": "code",
   "execution_count": null,
   "metadata": {},
   "outputs": [],
   "source": [
    "for line in sorted(result):\n",
    "    print(line[1])"
   ]
  },
  {
   "cell_type": "code",
   "execution_count": null,
   "metadata": {
    "collapsed": true
   },
   "outputs": [],
   "source": [
    "# B Выборы Государственной Думы"
   ]
  },
  {
   "cell_type": "code",
   "execution_count": null,
   "metadata": {
    "collapsed": true
   },
   "outputs": [],
   "source": [
    "lst = []\n",
    "with open('input.txt') as fh:\n",
    "    for line in fh:\n",
    "        lst.append(line.strip().split())"
   ]
  },
  {
   "cell_type": "code",
   "execution_count": null,
   "metadata": {
    "collapsed": true
   },
   "outputs": [],
   "source": [
    "d = sum([int(lst[i][-1]) for i in range(len(lst))]) / 450"
   ]
  },
  {
   "cell_type": "code",
   "execution_count": null,
   "metadata": {
    "collapsed": true
   },
   "outputs": [],
   "source": [
    "A = [[] for _ in range(n)]\n",
    "\n",
    "def create_dict(line):\n",
    "    i = h(''.join(line[:-1]))\n",
    "    bucket = A[i]\n",
    "    bucket.append([' '.join(line[:-1]), int(line[-1]), int(line[-1]) // d, (int(line[-1]) / d - int(line[-1]) // d)])"
   ]
  },
  {
   "cell_type": "code",
   "execution_count": null,
   "metadata": {
    "collapsed": true
   },
   "outputs": [],
   "source": [
    "for line in lst:\n",
    "    create_dict(line)"
   ]
  },
  {
   "cell_type": "code",
   "execution_count": null,
   "metadata": {
    "collapsed": true
   },
   "outputs": [],
   "source": [
    "result = []\n",
    "for bucket in A:\n",
    "    if bucket != []:\n",
    "        for el in bucket:\n",
    "            result.append([el[3], el[2], el[1], el[0]])"
   ]
  },
  {
   "cell_type": "code",
   "execution_count": null,
   "metadata": {
    "collapsed": true
   },
   "outputs": [],
   "source": [
    "total_seats = sum([result[i][1] for i in range(len(result))])\n",
    "while total_seats < 450:\n",
    "    for party in sorted(result, reverse=True):\n",
    "        party[1] = party[1] + 1\n",
    "        total_seats += 1\n",
    "        if total_seats == 450:\n",
    "            break"
   ]
  },
  {
   "cell_type": "code",
   "execution_count": null,
   "metadata": {},
   "outputs": [],
   "source": [
    "for line in lst:\n",
    "    name = ' '.join(line[:-1])\n",
    "    for element in result:\n",
    "        if name in element:\n",
    "            print(name, int(element[1]))"
   ]
  },
  {
   "cell_type": "code",
   "execution_count": null,
   "metadata": {
    "collapsed": true
   },
   "outputs": [],
   "source": [
    "# C Контрольная по ударениям"
   ]
  },
  {
   "cell_type": "code",
   "execution_count": null,
   "metadata": {
    "collapsed": true
   },
   "outputs": [],
   "source": [
    "lst = []\n",
    "with open('input.txt') as fh:\n",
    "    for line in fh:\n",
    "        lst.append(line.strip())"
   ]
  },
  {
   "cell_type": "code",
   "execution_count": null,
   "metadata": {
    "collapsed": true
   },
   "outputs": [],
   "source": [
    "p = 10 ** 9 + 7\n",
    "n = 10 ** 5\n",
    "def h(word):\n",
    "    a = 1\n",
    "    result = 0\n",
    "    for sym in word:\n",
    "        result += ord(sym) * a\n",
    "        a *= 307\n",
    "    return result % p % n"
   ]
  },
  {
   "cell_type": "code",
   "execution_count": null,
   "metadata": {
    "collapsed": true
   },
   "outputs": [],
   "source": [
    "A = [[] for _ in range(n)]\n",
    "A_lower = [[] for _ in range(n)]\n",
    "\n",
    "def create_dicts(word):\n",
    "    i = h(word)\n",
    "    i_lower = h(word.lower())\n",
    "    bucket = A[i]\n",
    "    bucket_lower = A_lower[i_lower]\n",
    "    bucket.append(word)\n",
    "    if bucket_lower != [word.lower()]:\n",
    "        bucket_lower.append(word.lower())"
   ]
  },
  {
   "cell_type": "code",
   "execution_count": null,
   "metadata": {
    "collapsed": true
   },
   "outputs": [],
   "source": [
    "answer = lst[-1].split()"
   ]
  },
  {
   "cell_type": "code",
   "execution_count": null,
   "metadata": {
    "collapsed": true
   },
   "outputs": [],
   "source": [
    "for i in range(1, int(lst[0])+1):\n",
    "    create_dicts(lst[i])"
   ]
  },
  {
   "cell_type": "code",
   "execution_count": null,
   "metadata": {
    "collapsed": true
   },
   "outputs": [],
   "source": [
    "mistakes = 0\n",
    "\n",
    "def find_mistakes(word):\n",
    "    global mistakes\n",
    "    i_lower = h(word.lower())\n",
    "    bucket_lower = A_lower[i_lower]\n",
    "    for el in bucket_lower:\n",
    "        if el == word.lower():\n",
    "            i = h(word)\n",
    "            bucket = A[i]\n",
    "            for elmnt in bucket:\n",
    "                if elmnt == word:\n",
    "                    return\n",
    "\n",
    "            mistakes += 1\n",
    "            return\n",
    "\n",
    "\n",
    "    upper_count = 0\n",
    "    for sym in word:\n",
    "        if sym.isupper():\n",
    "            upper_count += 1\n",
    "    if upper_count != 1:\n",
    "        mistakes += 1"
   ]
  },
  {
   "cell_type": "code",
   "execution_count": null,
   "metadata": {},
   "outputs": [],
   "source": [
    "for word in answer:\n",
    "    find_mistakes(word)\n",
    "    \n",
    "print(mistakes)"
   ]
  },
  {
   "cell_type": "code",
   "execution_count": null,
   "metadata": {
    "collapsed": true
   },
   "outputs": [],
   "source": [
    "# D Сессия"
   ]
  },
  {
   "cell_type": "code",
   "execution_count": null,
   "metadata": {
    "collapsed": true
   },
   "outputs": [],
   "source": [
    "lst = []\n",
    "with open('input.txt') as fh:\n",
    "    for line in fh:\n",
    "        lst.append(line.strip())"
   ]
  },
  {
   "cell_type": "code",
   "execution_count": null,
   "metadata": {
    "collapsed": true
   },
   "outputs": [],
   "source": [
    "p = 2305843009213693951\n",
    "n = 10 ** 5\n",
    "def h(word):\n",
    "    a = 1\n",
    "    result = 0\n",
    "    for sym in word:\n",
    "        result += ord(sym) * a\n",
    "        a *= 487\n",
    "    return result % p % n"
   ]
  },
  {
   "cell_type": "code",
   "execution_count": null,
   "metadata": {
    "collapsed": true
   },
   "outputs": [],
   "source": [
    "A_courses = [[] for _ in range(n)]\n",
    "\n",
    "def create_dict_courses(line):\n",
    "    course, mark = line.split()[0], line.split()[1]\n",
    "    i = h(course)\n",
    "    bucket = A_courses[i]\n",
    "    bucket.append([course, mark])"
   ]
  },
  {
   "cell_type": "code",
   "execution_count": null,
   "metadata": {
    "collapsed": true
   },
   "outputs": [],
   "source": [
    "for line in lst[1:int(lst[0])+1]:\n",
    "    create_dict_courses(line)"
   ]
  },
  {
   "cell_type": "code",
   "execution_count": null,
   "metadata": {
    "collapsed": true
   },
   "outputs": [],
   "source": [
    "A_students = [[] for _ in range(n)]\n",
    "\n",
    "def check_course(course, mark):\n",
    "    bucket_courses = A_courses[h(course)]\n",
    "    # проверяю, есть ли предмет в словаре с предметами из программы\n",
    "    for el in bucket_courses:\n",
    "        if el[0] == course:\n",
    "            #print(int(course[1]) <= mark)\n",
    "            # если нашли курс в словаре, проверим оценку\n",
    "            if int(el[1]) <= int(mark):\n",
    "                return True\n",
    "    return False"
   ]
  },
  {
   "cell_type": "code",
   "execution_count": null,
   "metadata": {
    "collapsed": true
   },
   "outputs": [],
   "source": [
    "def create_dict_students(student, course, mark):\n",
    "    bucket_student = A_students[h(student)]\n",
    "    if check_course(course, mark):\n",
    "        for el in bucket_student:\n",
    "            if el[0] == student:\n",
    "                el[1].add(course)\n",
    "                return\n",
    "        bucket_student.append([student, {course}])\n",
    "        return\n",
    "    \n",
    "    else:\n",
    "        for el in bucket_student:\n",
    "            if el[0] == student:\n",
    "                return\n",
    "        bucket_student.append([student, set()])\n",
    "        return     "
   ]
  },
  {
   "cell_type": "code",
   "execution_count": null,
   "metadata": {
    "collapsed": true
   },
   "outputs": [],
   "source": [
    "for line in lst[int(lst[0])+2:]:\n",
    "    student, course, mark = line.split()[0], line.split()[1], line.split()[2]\n",
    "    create_dict_students(student, course, mark)"
   ]
  },
  {
   "cell_type": "code",
   "execution_count": null,
   "metadata": {
    "collapsed": true
   },
   "outputs": [],
   "source": [
    "dict_students = []\n",
    "for bucket in A_students:\n",
    "    if bucket != []:\n",
    "        for el in bucket:\n",
    "            dict_students.append((-len(el[1]), el[0]))"
   ]
  },
  {
   "cell_type": "code",
   "execution_count": null,
   "metadata": {
    "collapsed": true,
    "scrolled": true
   },
   "outputs": [],
   "source": [
    "for line in sorted(dict_students):\n",
    "    print(line[1], -line[0])"
   ]
  },
  {
   "cell_type": "code",
   "execution_count": null,
   "metadata": {
    "collapsed": true
   },
   "outputs": [],
   "source": [
    "p = 10**7 +7\n",
    "n = 10 ** 6"
   ]
  },
  {
   "cell_type": "code",
   "execution_count": null,
   "metadata": {},
   "outputs": [],
   "source": [
    "(10 ** 10) % p "
   ]
  },
  {
   "cell_type": "code",
   "execution_count": null,
   "metadata": {},
   "outputs": [],
   "source": [
    "p = 10**9 +7\n",
    "n = 10 ** 6"
   ]
  },
  {
   "cell_type": "code",
   "execution_count": null,
   "metadata": {},
   "outputs": [],
   "source": [
    "(10 ** 10) % (p)  "
   ]
  },
  {
   "cell_type": "code",
   "execution_count": null,
   "metadata": {},
   "outputs": [],
   "source": [
    "((10 ** 10) // p)*p + (10 ** 10) % p"
   ]
  },
  {
   "cell_type": "code",
   "execution_count": null,
   "metadata": {},
   "outputs": [],
   "source": [
    "((10)// (9)) * (9)"
   ]
  },
  {
   "cell_type": "code",
   "execution_count": null,
   "metadata": {},
   "outputs": [],
   "source": [
    "((10)// (7)) * (7) "
   ]
  },
  {
   "cell_type": "code",
   "execution_count": null,
   "metadata": {
    "collapsed": true
   },
   "outputs": [],
   "source": [
    "# Подпалиндромы"
   ]
  },
  {
   "cell_type": "code",
   "execution_count": 41,
   "metadata": {},
   "outputs": [],
   "source": [
    "lst = []\n",
    "with open('substring-palindromes.in') as fh:\n",
    "    for line in fh:\n",
    "        lst.append(line.strip())"
   ]
  },
  {
   "cell_type": "code",
   "execution_count": 42,
   "metadata": {},
   "outputs": [],
   "source": [
    "word = lst[0]\n",
    "m = int(lst[1])"
   ]
  },
  {
   "cell_type": "code",
   "execution_count": 43,
   "metadata": {
    "collapsed": true
   },
   "outputs": [],
   "source": [
    "p = 10 ** 9 + 7\n",
    "n = 10 ** 5\n",
    "def compare_hash(sub_word):\n",
    "    l = len(sub_word)\n",
    "    a = 307\n",
    "    rev_a = 307\n",
    "    result = 0\n",
    "    rev_result = 0\n",
    "    for idx, rev_idx in zip(range(0, l), range(l-1, -1, -1)):\n",
    "        result += ord(sub_word[idx]) * (a ** idx)\n",
    "        rev_result += ord(sub_word[idx]) * (rev_a ** rev_idx)\n",
    "    if (result % p % n) == (rev_result % p % n):\n",
    "        return 'Yes'\n",
    "    else:\n",
    "        return 'No'"
   ]
  },
  {
   "cell_type": "code",
   "execution_count": 44,
   "metadata": {},
   "outputs": [],
   "source": [
    "with open('substring-palindromes.out', 'a') as fh:\n",
    "    for line in lst[2:(2+m)]:\n",
    "        if 'palindrome' in line:\n",
    "            start, end = int(line.split()[1]) - 1, int(line.split()[2])\n",
    "            sub_word = word[start:end]\n",
    "            fh.write(str(compare_hash(sub_word)) + '\\n')\n",
    "        else:\n",
    "            index, value = int(line.split()[1]) - 1, line.split()[2]\n",
    "            l = list(word)\n",
    "            l[index] = value\n",
    "            word = ''.join(l)"
   ]
  },
  {
   "cell_type": "code",
   "execution_count": null,
   "metadata": {
    "collapsed": true
   },
   "outputs": [],
   "source": []
  }
 ],
 "metadata": {
  "kernelspec": {
   "display_name": "Python 3",
   "language": "python",
   "name": "python3"
  },
  "language_info": {
   "codemirror_mode": {
    "name": "ipython",
    "version": 3
   },
   "file_extension": ".py",
   "mimetype": "text/x-python",
   "name": "python",
   "nbconvert_exporter": "python",
   "pygments_lexer": "ipython3",
   "version": "3.6.1"
  }
 },
 "nbformat": 4,
 "nbformat_minor": 2
}
