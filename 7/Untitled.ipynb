{
 "cells": [
  {
   "cell_type": "code",
   "execution_count": 40,
   "metadata": {},
   "outputs": [],
   "source": [
    "p = 1000000007\n",
    "n = 10\n",
    "\n",
    "# s\n",
    "# s1 s2 s3 ... sr\n",
    "\n",
    "# (s1 + a * s2 + a ^ 2 * s3 ...) % p % n\n",
    "\n",
    "# (1 * s1 + 307 * s2 + 307 ^ 2 * s3 ...) % p % n\n",
    "def h(s):\n",
    "    a = 1\n",
    "    result = 0\n",
    "    for sym in s:\n",
    "        result += (ord(sym) * a) % p\n",
    "        a *= 307\n",
    "    return result % p % n"
   ]
  },
  {
   "cell_type": "code",
   "execution_count": 36,
   "metadata": {},
   "outputs": [
    {
     "data": {
      "text/plain": [
       "4"
      ]
     },
     "execution_count": 36,
     "metadata": {},
     "output_type": "execute_result"
    }
   ],
   "source": [
    "h(\"abc\")"
   ]
  },
  {
   "cell_type": "code",
   "execution_count": 41,
   "metadata": {},
   "outputs": [
    {
     "name": "stdout",
     "output_type": "stream",
     "text": [
      "oh you touch my tralala mmm my ding ding dong\n"
     ]
    },
    {
     "data": {
      "text/plain": [
       "[[['ding', 2]],\n",
       " [['you', 1]],\n",
       " [['dong', 1]],\n",
       " [['mmm', 1]],\n",
       " [],\n",
       " [['touch', 1]],\n",
       " [['my', 2]],\n",
       " [],\n",
       " [['tralala', 1]],\n",
       " [['oh', 1]]]"
      ]
     },
     "execution_count": 41,
     "metadata": {},
     "output_type": "execute_result"
    }
   ],
   "source": [
    "text = input().split()\n",
    "\n",
    "arr = [[] for _ in range(n)]\n",
    "\n",
    "def insert(word):\n",
    "    i = h(word)\n",
    "    bucket = arr[i]\n",
    "    for el in bucket:\n",
    "        if el[0] == word:\n",
    "            el[1] += 1\n",
    "            return\n",
    "    bucket.append([word, 1])\n",
    "\n",
    "for word in text:\n",
    "    insert(word)\n",
    "\n",
    "arr"
   ]
  },
  {
   "cell_type": "code",
   "execution_count": 45,
   "metadata": {},
   "outputs": [
    {
     "name": "stdout",
     "output_type": "stream",
     "text": [
      "ding\n",
      "my\n",
      "dong\n",
      "mmm\n",
      "oh\n",
      "touch\n",
      "tralala\n",
      "you\n"
     ]
    }
   ],
   "source": [
    "result = []\n",
    "for bucket in arr:\n",
    "    for el in bucket:\n",
    "        result.append((-el[1], el[0]))\n",
    "# result\n",
    "# sorted(result)\n",
    "for el in sorted(result):\n",
    "    print(el[1])"
   ]
  }
 ],
 "metadata": {
  "kernelspec": {
   "display_name": "Python 3",
   "language": "python",
   "name": "python3"
  },
  "language_info": {
   "codemirror_mode": {
    "name": "ipython",
    "version": 3
   },
   "file_extension": ".py",
   "mimetype": "text/x-python",
   "name": "python",
   "nbconvert_exporter": "python",
   "pygments_lexer": "ipython3",
   "version": "3.7.5"
  }
 },
 "nbformat": 4,
 "nbformat_minor": 4
}
